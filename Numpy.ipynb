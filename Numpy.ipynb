{
 "cells": [
  {
   "cell_type": "code",
   "execution_count": 1,
   "id": "87cd1c99",
   "metadata": {},
   "outputs": [],
   "source": [
    "import numpy as np"
   ]
  },
  {
   "cell_type": "markdown",
   "id": "6c14f033",
   "metadata": {},
   "source": [
    "    ## Numpy Array"
   ]
  },
  {
   "cell_type": "code",
   "execution_count": 2,
   "id": "3eb98de6",
   "metadata": {},
   "outputs": [
    {
     "data": {
      "text/plain": [
       "[1, 2, 3]"
      ]
     },
     "execution_count": 2,
     "metadata": {},
     "output_type": "execute_result"
    }
   ],
   "source": [
    "list = [1, 2, 3]\n",
    "list"
   ]
  },
  {
   "cell_type": "code",
   "execution_count": 3,
   "id": "a574f0db",
   "metadata": {},
   "outputs": [
    {
     "data": {
      "text/plain": [
       "list"
      ]
     },
     "execution_count": 3,
     "metadata": {},
     "output_type": "execute_result"
    }
   ],
   "source": [
    "type(list)"
   ]
  },
  {
   "cell_type": "markdown",
   "id": "638a1159",
   "metadata": {},
   "source": [
    " . . ."
   ]
  },
  {
   "cell_type": "code",
   "execution_count": 5,
   "id": "2b3497ef",
   "metadata": {},
   "outputs": [
    {
     "data": {
      "text/plain": [
       "array([1, 2, 3])"
      ]
     },
     "execution_count": 5,
     "metadata": {},
     "output_type": "execute_result"
    }
   ],
   "source": [
    "array = np.array(list)\n",
    "array"
   ]
  },
  {
   "cell_type": "code",
   "execution_count": 6,
   "id": "cc955a0b",
   "metadata": {},
   "outputs": [
    {
     "data": {
      "text/plain": [
       "numpy.ndarray"
      ]
     },
     "execution_count": 6,
     "metadata": {},
     "output_type": "execute_result"
    }
   ],
   "source": [
    "type(array)"
   ]
  },
  {
   "cell_type": "markdown",
   "id": "ef01d7e5",
   "metadata": {},
   "source": [
    ". . ."
   ]
  },
  {
   "cell_type": "code",
   "execution_count": 7,
   "id": "2b5d0afd",
   "metadata": {},
   "outputs": [
    {
     "data": {
      "text/plain": [
       "[[1, 2, 3], [4, 5, 6], [7, 8, 9]]"
      ]
     },
     "execution_count": 7,
     "metadata": {},
     "output_type": "execute_result"
    }
   ],
   "source": [
    "matrix_1 = [[1, 2, 3], [4, 5, 6], [7, 8, 9]]\n",
    "matrix_1"
   ]
  },
  {
   "cell_type": "code",
   "execution_count": 9,
   "id": "0ef9925c",
   "metadata": {},
   "outputs": [
    {
     "data": {
      "text/plain": [
       "array([[1, 2, 3],\n",
       "       [4, 5, 6],\n",
       "       [7, 8, 9]])"
      ]
     },
     "execution_count": 9,
     "metadata": {},
     "output_type": "execute_result"
    }
   ],
   "source": [
    "matrix = np.array(matrix_1)\n",
    "matrix"
   ]
  },
  {
   "cell_type": "code",
   "execution_count": 10,
   "id": "d940086c",
   "metadata": {},
   "outputs": [
    {
     "data": {
      "text/plain": [
       "numpy.ndarray"
      ]
     },
     "execution_count": 10,
     "metadata": {},
     "output_type": "execute_result"
    }
   ],
   "source": [
    "type(matrix)"
   ]
  },
  {
   "cell_type": "markdown",
   "id": "ac14caf7",
   "metadata": {},
   "source": [
    " Hazır Metotlar"
   ]
  },
  {
   "cell_type": "code",
   "execution_count": 12,
   "id": "8d992676",
   "metadata": {},
   "outputs": [
    {
     "data": {
      "text/plain": [
       "array([0, 1, 2, 3, 4, 5, 6, 7, 8, 9])"
      ]
     },
     "execution_count": 12,
     "metadata": {},
     "output_type": "execute_result"
    }
   ],
   "source": [
    "np.arange(0, 10)"
   ]
  },
  {
   "cell_type": "code",
   "execution_count": 20,
   "id": "d6c0e361",
   "metadata": {},
   "outputs": [
    {
     "data": {
      "text/plain": [
       "array([  0,   2,   4,   6,   8,  10,  12,  14,  16,  18,  20,  22,  24,\n",
       "        26,  28,  30,  32,  34,  36,  38,  40,  42,  44,  46,  48,  50,\n",
       "        52,  54,  56,  58,  60,  62,  64,  66,  68,  70,  72,  74,  76,\n",
       "        78,  80,  82,  84,  86,  88,  90,  92,  94,  96,  98, 100])"
      ]
     },
     "execution_count": 20,
     "metadata": {},
     "output_type": "execute_result"
    }
   ],
   "source": [
    "np.arange(0, 101, 2)"
   ]
  },
  {
   "cell_type": "markdown",
   "id": "1be1b99c",
   "metadata": {},
   "source": [
    ". . ."
   ]
  },
  {
   "cell_type": "code",
   "execution_count": 26,
   "id": "8ee5f3ee",
   "metadata": {},
   "outputs": [
    {
     "data": {
      "text/plain": [
       "array([[ 0,  5, 10],\n",
       "       [15, 20, 25],\n",
       "       [30, 35, 40],\n",
       "       [45, 50, 55]])"
      ]
     },
     "execution_count": 26,
     "metadata": {},
     "output_type": "execute_result"
    }
   ],
   "source": [
    "matrix_2 = np.arange(0, 60, 5).reshape(4, 3)\n",
    "matrix_2"
   ]
  },
  {
   "cell_type": "markdown",
   "id": "5745511a",
   "metadata": {},
   "source": [
    ". . ."
   ]
  },
  {
   "cell_type": "code",
   "execution_count": 27,
   "id": "acab6beb",
   "metadata": {},
   "outputs": [
    {
     "data": {
      "text/plain": [
       "array([0., 0., 0., 0., 0.])"
      ]
     },
     "execution_count": 27,
     "metadata": {},
     "output_type": "execute_result"
    }
   ],
   "source": [
    "np.zeros(5)"
   ]
  },
  {
   "cell_type": "code",
   "execution_count": 28,
   "id": "7dcb7b6b",
   "metadata": {},
   "outputs": [
    {
     "data": {
      "text/plain": [
       "array([[0., 0., 0., 0.],\n",
       "       [0., 0., 0., 0.],\n",
       "       [0., 0., 0., 0.]])"
      ]
     },
     "execution_count": 28,
     "metadata": {},
     "output_type": "execute_result"
    }
   ],
   "source": [
    "np.zeros((3, 4))"
   ]
  },
  {
   "cell_type": "code",
   "execution_count": 29,
   "id": "92211e1d",
   "metadata": {},
   "outputs": [
    {
     "data": {
      "text/plain": [
       "array([1., 1., 1., 1., 1.])"
      ]
     },
     "execution_count": 29,
     "metadata": {},
     "output_type": "execute_result"
    }
   ],
   "source": [
    "np.ones(5)"
   ]
  },
  {
   "cell_type": "code",
   "execution_count": 30,
   "id": "29137f9e",
   "metadata": {},
   "outputs": [
    {
     "data": {
      "text/plain": [
       "array([[1., 1., 1., 1.],\n",
       "       [1., 1., 1., 1.],\n",
       "       [1., 1., 1., 1.]])"
      ]
     },
     "execution_count": 30,
     "metadata": {},
     "output_type": "execute_result"
    }
   ],
   "source": [
    "np.ones((3, 4))"
   ]
  },
  {
   "cell_type": "markdown",
   "id": "4377c824",
   "metadata": {},
   "source": [
    ". . ."
   ]
  },
  {
   "cell_type": "code",
   "execution_count": 33,
   "id": "0c137220",
   "metadata": {},
   "outputs": [
    {
     "data": {
      "text/plain": [
       "array([  0.  ,  25.25,  50.5 ,  75.75, 101.  ])"
      ]
     },
     "execution_count": 33,
     "metadata": {},
     "output_type": "execute_result"
    }
   ],
   "source": [
    "np.linspace(0, 101, 5)"
   ]
  },
  {
   "cell_type": "code",
   "execution_count": 34,
   "id": "aeddac92",
   "metadata": {},
   "outputs": [
    {
     "data": {
      "text/plain": [
       "array([0.        , 0.11111111, 0.22222222, 0.33333333, 0.44444444,\n",
       "       0.55555556, 0.66666667, 0.77777778, 0.88888889, 1.        ])"
      ]
     },
     "execution_count": 34,
     "metadata": {},
     "output_type": "execute_result"
    }
   ],
   "source": [
    "np.linspace(0, 1, 10)"
   ]
  },
  {
   "cell_type": "markdown",
   "id": "382231d4",
   "metadata": {},
   "source": [
    "Random"
   ]
  },
  {
   "cell_type": "code",
   "execution_count": 35,
   "id": "1ba6d291",
   "metadata": {},
   "outputs": [
    {
     "data": {
      "text/plain": [
       "array([0.72497734, 0.56938334, 0.91146295, 0.00313148, 0.27912016,\n",
       "       0.40420249, 0.02298004, 0.88458939, 0.16625693, 0.72549673])"
      ]
     },
     "execution_count": 35,
     "metadata": {},
     "output_type": "execute_result"
    }
   ],
   "source": [
    "np.random.rand(10)"
   ]
  },
  {
   "cell_type": "code",
   "execution_count": 36,
   "id": "728feba7",
   "metadata": {},
   "outputs": [
    {
     "data": {
      "text/plain": [
       "array([[0.19189455, 0.27646519, 0.92771614],\n",
       "       [0.43317359, 0.90232493, 0.99659512],\n",
       "       [0.93206096, 0.79622943, 0.69667252]])"
      ]
     },
     "execution_count": 36,
     "metadata": {},
     "output_type": "execute_result"
    }
   ],
   "source": [
    "np.random.rand(3, 3)"
   ]
  },
  {
   "cell_type": "markdown",
   "id": "dc10caaa",
   "metadata": {},
   "source": [
    "NOT : Gaos eğrisi doğrultusunda sayılar üretir ! alt satır . . ."
   ]
  },
  {
   "cell_type": "code",
   "execution_count": 37,
   "id": "458af4d4",
   "metadata": {},
   "outputs": [
    {
     "data": {
      "text/plain": [
       "array([[ 1.0553381 , -0.63960094,  0.3970084 ],\n",
       "       [ 0.17352409,  0.24621236,  1.71280423],\n",
       "       [ 1.07110874,  0.20254582, -0.88613115]])"
      ]
     },
     "execution_count": 37,
     "metadata": {},
     "output_type": "execute_result"
    }
   ],
   "source": [
    "np.random.randn(3, 3)"
   ]
  },
  {
   "cell_type": "code",
   "execution_count": 52,
   "id": "9220fef0",
   "metadata": {},
   "outputs": [
    {
     "data": {
      "text/plain": [
       "50"
      ]
     },
     "execution_count": 52,
     "metadata": {},
     "output_type": "execute_result"
    }
   ],
   "source": [
    "np.random.randint(100)"
   ]
  },
  {
   "cell_type": "code",
   "execution_count": 59,
   "id": "5ab3a232",
   "metadata": {},
   "outputs": [
    {
     "data": {
      "text/plain": [
       "array([673, 872, 102, 775])"
      ]
     },
     "execution_count": 59,
     "metadata": {},
     "output_type": "execute_result"
    }
   ],
   "source": [
    "np.random.randint(1, 1000, 4)"
   ]
  },
  {
   "cell_type": "markdown",
   "id": "6f9d690b",
   "metadata": {},
   "source": [
    "np.random.seed(?) : Soru işareti yazılan sayı refarans noktasıdır bu noktaya yazılan sayılar ile genel olarak hep aynı sonuçlar üretilir . "
   ]
  },
  {
   "cell_type": "code",
   "execution_count": 66,
   "id": "56ac3d83",
   "metadata": {},
   "outputs": [
    {
     "data": {
      "text/plain": [
       "array([0.49969432, 0.25593713, 0.25810063, 0.09692171])"
      ]
     },
     "execution_count": 66,
     "metadata": {},
     "output_type": "execute_result"
    }
   ],
   "source": [
    "np.random.seed(99)\n",
    "np.random.rand(4)"
   ]
  },
  {
   "cell_type": "markdown",
   "id": "847026e6",
   "metadata": {},
   "source": [
    "Max vs. Min"
   ]
  },
  {
   "cell_type": "code",
   "execution_count": 70,
   "id": "7749e36c",
   "metadata": {},
   "outputs": [
    {
     "data": {
      "text/plain": [
       "array([ 1, 35, 57, 40, 73, 82, 68, 69, 52,  1])"
      ]
     },
     "execution_count": 70,
     "metadata": {},
     "output_type": "execute_result"
    }
   ],
   "source": [
    "np.random.seed(99)\n",
    "random = np.random.randint(0, 101, 10)\n",
    "\n",
    "random"
   ]
  },
  {
   "cell_type": "code",
   "execution_count": 71,
   "id": "1b3c2f1f",
   "metadata": {},
   "outputs": [
    {
     "data": {
      "text/plain": [
       "1"
      ]
     },
     "execution_count": 71,
     "metadata": {},
     "output_type": "execute_result"
    }
   ],
   "source": [
    "random.min()"
   ]
  },
  {
   "cell_type": "code",
   "execution_count": 72,
   "id": "30b0c8a7",
   "metadata": {},
   "outputs": [
    {
     "data": {
      "text/plain": [
       "82"
      ]
     },
     "execution_count": 72,
     "metadata": {},
     "output_type": "execute_result"
    }
   ],
   "source": [
    "random.max()"
   ]
  }
 ],
 "metadata": {
  "kernelspec": {
   "display_name": "Python 3 (ipykernel)",
   "language": "python",
   "name": "python3"
  },
  "language_info": {
   "codemirror_mode": {
    "name": "ipython",
    "version": 3
   },
   "file_extension": ".py",
   "mimetype": "text/x-python",
   "name": "python",
   "nbconvert_exporter": "python",
   "pygments_lexer": "ipython3",
   "version": "3.11.4"
  }
 },
 "nbformat": 4,
 "nbformat_minor": 5
}
